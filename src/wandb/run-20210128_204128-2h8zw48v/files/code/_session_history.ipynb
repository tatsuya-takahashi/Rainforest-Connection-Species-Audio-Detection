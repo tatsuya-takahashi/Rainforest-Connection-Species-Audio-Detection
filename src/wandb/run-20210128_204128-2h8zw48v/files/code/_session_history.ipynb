{
 "cells": [
  {
   "cell_type": "code",
   "execution_count": 1,
   "metadata": {},
   "outputs": [],
   "source": [
    "PROJECT = \"RFCX\"\n",
    "EXP_NUM = \"0\"\n",
    "EXP_TITLE = \"Baseline\"\n",
    "EXP_NAME = \"exp_\" + EXP_NUM + \"_\" + EXP_TITLE\n",
    "IS_WRITRE_LOG = True\n",
    "print('expname:' + EXP_NAME)"
   ]
  },
  {
   "cell_type": "code",
   "execution_count": 2,
   "metadata": {},
   "outputs": [],
   "source": [
    "# library import\n",
    "import numpy as np\n",
    "import pandas as pd\n",
    "import os\n",
    "import tqdm\n",
    "import random\n",
    "import time\n",
    "import math\n",
    "import csv\n",
    "import torch\n",
    "import torch.nn as nn\n",
    "from time import sleep\n",
    "from torch.nn import functional as F\n",
    "from torch.optim import Adam, AdamW\n",
    "from torchvision.models import resnet18, resnet34, resnet50\n",
    "from torchvision import datasets, transforms\n",
    "from torch.utils.data import Dataset, DataLoader\n",
    "from torch.utils.data.dataset import Subset\n",
    "import torch.utils.data as torchdata\n",
    "from torch.optim.lr_scheduler import CosineAnnealingLR, ReduceLROnPlateau\n",
    "import matplotlib.pyplot as plt\n",
    "from sklearn.metrics import f1_score\n",
    "from sklearn.model_selection import StratifiedKFold\n",
    "from contextlib import contextmanager\n",
    "from typing import Optional\n",
    "import logging\n",
    "from numpy.random import beta\n",
    "from pathlib import Path\n",
    "\n",
    "from fastprogress.fastprogress import master_bar, progress_bar\n",
    "\n",
    "from torchviz import make_dot\n",
    "\n",
    "\n",
    "from conformer import ConformerConvModule\n",
    "from conformer import ConformerBlock\n",
    "\n",
    "from iterstrat.ml_stratifiers import MultilabelStratifiedKFold\n",
    "from iterstrat.ml_stratifiers import MultilabelStratifiedShuffleSplit\n",
    "\n",
    "from torch.utils.tensorboard import SummaryWriter\n",
    "\n",
    "import wandb\n",
    "\n",
    "\n",
    "pd.set_option('display.max_columns', 50)\n",
    "pd.set_option('display.max_rows', 100)"
   ]
  },
  {
   "cell_type": "code",
   "execution_count": 3,
   "metadata": {},
   "outputs": [],
   "source": [
    "# use GPU\n",
    "device = torch.device('cuda:0' if torch.cuda.is_available() else 'cpu')\n",
    "print(device)"
   ]
  },
  {
   "cell_type": "code",
   "execution_count": 4,
   "metadata": {},
   "outputs": [],
   "source": [
    "# sample data\n",
    "sample = torch.from_numpy(np.load('melspec.npy'))\n",
    "print(sample.shape)\n",
    "print(sample[np.newaxis, :, :].shape)\n",
    "# channel = sample.unsqueeze(0)\n",
    "# batch = channel.unsqueeze(0)\n",
    "# print(batch.shape)"
   ]
  },
  {
   "cell_type": "code",
   "execution_count": 5,
   "metadata": {},
   "outputs": [
    {
     "data": {
      "text/html": [
       "\n",
       "                Tracking run with wandb version 0.10.15<br/>\n",
       "                Syncing run <strong style=\"color:#cdcd00\">divine-silence-1</strong> to <a href=\"https://wandb.ai\" target=\"_blank\">Weights & Biases</a> <a href=\"https://docs.wandb.com/integrations/jupyter.html\" target=\"_blank\">(Documentation)</a>.<br/>\n",
       "                Project page: <a href=\"https://wandb.ai/tatsuya-takahashi/RFCX\" target=\"_blank\">https://wandb.ai/tatsuya-takahashi/RFCX</a><br/>\n",
       "                Run page: <a href=\"https://wandb.ai/tatsuya-takahashi/RFCX/runs/2h8zw48v\" target=\"_blank\">https://wandb.ai/tatsuya-takahashi/RFCX/runs/2h8zw48v</a><br/>\n",
       "                Run data is saved locally in <code>d:\\000_devs\\003_kaggle_Rainforest-Connection-Species-Audio-Detection\\Rainforest-Connection-Species-Audio-Detection\\src\\wandb\\run-20210128_204128-2h8zw48v</code><br/><br/>\n",
       "            "
      ],
      "text/plain": [
       "<IPython.core.display.HTML object>"
      ]
     },
     "metadata": {},
     "output_type": "display_data"
    }
   ],
   "source": [
    "params = {\n",
    "    \"SEED\":               42,\n",
    "    \"INPUT\":              Path(\"../input/rfcx-species-audio-detection/train\"),\n",
    "    \"TRAIN_AUDIO_ROOT\":   Path(\"../input/rfcx-species-audio-detection/train_mel\"),\n",
    "    \"TEST_AUDIO_ROOT\":    Path(\"../input/rfcx-species-audio-detection/test_mel\"),\n",
    "    \"TRAIN_TP\":           Path(\"../input/rfcx-species-audio-detection/train_tp.csv\"),\n",
    "    \"SUB\":                Path(\"../input/rfcx-species-audio-detection/sample_submission.csv\"),\n",
    "    \"DIM\":                sample.shape[1],\n",
    "    \"SEQ_LEN\":            sample.shape[0],\n",
    "    \"KERNEL_SIZE\":        3,\n",
    "    \"POOL_SIZE\":          2,\n",
    "    \"POOL_STRIDE\":        2,\n",
    "    \"NUM_BIRDS\":          24,\n",
    "    \"N_FOLDS\":            5,\n",
    "    \"BATCH_NUM\":          50,\n",
    "    \"VALID_BATCH_NUM\":    50,\n",
    "    \"EPOCH_NUM\":          50,\n",
    "    \"DROPOUT\":            0.35,\n",
    "    \"lr\":                 0.0001,\n",
    "    \"eta_min\":            1e-5,\n",
    "    \"t_max\":              10,\n",
    "}\n",
    "wandb.init(config=params, project=PROJECT, group=EXP_NAME)\n",
    "config = wandb.config\n",
    "\n",
    "print(config.SEED)"
   ]
  },
  {
   "cell_type": "code",
   "execution_count": 6,
   "metadata": {},
   "outputs": [],
   "source": [
    "params = {\n",
    "    \"SEED\":               42,\n",
    "    \"INPUT\":              Path(\"../input/rfcx-species-audio-detection/train\"),\n",
    "    \"TRAIN_AUDIO_ROOT\":   Path(\"../input/rfcx-species-audio-detection/train_mel\"),\n",
    "    \"TEST_AUDIO_ROOT\":    Path(\"../input/rfcx-species-audio-detection/test_mel\"),\n",
    "    \"TRAIN_TP\":           Path(\"../input/rfcx-species-audio-detection/train_tp.csv\"),\n",
    "    \"SUB\":                Path(\"../input/rfcx-species-audio-detection/sample_submission.csv\"),\n",
    "    \"DIM\":                sample.shape[1],\n",
    "    \"SEQ_LEN\":            sample.shape[0],\n",
    "    \"KERNEL_SIZE\":        3,\n",
    "    \"POOL_SIZE\":          2,\n",
    "    \"POOL_STRIDE\":        2,\n",
    "    \"NUM_BIRDS\":          24,\n",
    "    \"N_FOLDS\":            5,\n",
    "    \"BATCH_NUM\":          50,\n",
    "    \"VALID_BATCH_NUM\":    50,\n",
    "    \"EPOCH_NUM\":          50,\n",
    "    \"DROPOUT\":            0.35,\n",
    "    \"lr\":                 0.0001,\n",
    "    \"eta_min\":            1e-5,\n",
    "    \"t_max\":              10,\n",
    "}\n",
    "wandb.init(config=params, project=PROJECT)\n",
    "config = wandb.config\n",
    "wandb.run.name = EXP_NAME\n",
    "wandb.run.save()\n",
    "print(config.SEED)"
   ]
  }
 ],
 "metadata": {
  "kernelspec": {
   "display_name": "Python 3",
   "language": "python",
   "name": "python3"
  },
  "language_info": {
   "codemirror_mode": {
    "name": "ipython",
    "version": 3
   },
   "file_extension": ".py",
   "mimetype": "text/x-python",
   "name": "python",
   "nbconvert_exporter": "python",
   "pygments_lexer": "ipython3",
   "version": "3.8.5"
  }
 },
 "nbformat": 4,
 "nbformat_minor": 4
}
