{
 "cells": [
  {
   "cell_type": "markdown",
   "metadata": {},
   "source": [
    "# Train"
   ]
  },
  {
   "source": [
    "## Library Import"
   ],
   "cell_type": "markdown",
   "metadata": {}
  },
  {
   "cell_type": "code",
   "execution_count": 1,
   "metadata": {},
   "outputs": [
    {
     "output_type": "stream",
     "name": "stdout",
     "text": [
      "expname:exp_0_Baseline\n"
     ]
    }
   ],
   "source": [
    "PROJECT = \"RFCX\"\n",
    "EXP_NUM = \"0\"\n",
    "EXP_TITLE = \"Baseline\"\n",
    "EXP_NAME = \"exp_\" + EXP_NUM + \"_\" + EXP_TITLE\n",
    "IS_WRITRE_LOG = True\n",
    "print('expname:' + EXP_NAME)"
   ]
  },
  {
   "cell_type": "code",
   "execution_count": 2,
   "metadata": {},
   "outputs": [],
   "source": [
    "# library import\n",
    "import numpy as np\n",
    "import pandas as pd\n",
    "import os\n",
    "import tqdm\n",
    "import random\n",
    "import time\n",
    "import math\n",
    "import csv\n",
    "import torch\n",
    "import torch.nn as nn\n",
    "from time import sleep\n",
    "from torch.nn import functional as F\n",
    "from torch.optim import Adam, AdamW\n",
    "from torchvision.models import resnet18, resnet34, resnet50\n",
    "from torchvision import datasets, transforms\n",
    "from torch.utils.data import Dataset, DataLoader\n",
    "from torch.utils.data.dataset import Subset\n",
    "import torch.utils.data as torchdata\n",
    "from torch.optim.lr_scheduler import CosineAnnealingLR, ReduceLROnPlateau\n",
    "import matplotlib.pyplot as plt\n",
    "from sklearn.metrics import f1_score\n",
    "from sklearn.model_selection import StratifiedKFold\n",
    "from contextlib import contextmanager\n",
    "from typing import Optional\n",
    "import logging\n",
    "from numpy.random import beta\n",
    "from pathlib import Path\n",
    "\n",
    "from fastprogress.fastprogress import master_bar, progress_bar\n",
    "\n",
    "from torchviz import make_dot\n",
    "\n",
    "\n",
    "from conformer import ConformerConvModule\n",
    "from conformer import ConformerBlock\n",
    "\n",
    "from iterstrat.ml_stratifiers import MultilabelStratifiedKFold\n",
    "from iterstrat.ml_stratifiers import MultilabelStratifiedShuffleSplit\n",
    "\n",
    "from torch.utils.tensorboard import SummaryWriter\n",
    "\n",
    "import wandb\n",
    "\n",
    "\n",
    "pd.set_option('display.max_columns', 50)\n",
    "pd.set_option('display.max_rows', 100)\n",
    "\n"
   ]
  },
  {
   "source": [
    "## Configuration"
   ],
   "cell_type": "markdown",
   "metadata": {}
  },
  {
   "cell_type": "code",
   "execution_count": 3,
   "metadata": {},
   "outputs": [
    {
     "output_type": "stream",
     "name": "stdout",
     "text": [
      "cuda:0\n"
     ]
    }
   ],
   "source": [
    "# use GPU\n",
    "device = torch.device('cuda:0' if torch.cuda.is_available() else 'cpu')\n",
    "print(device)"
   ]
  },
  {
   "cell_type": "code",
   "execution_count": 4,
   "metadata": {},
   "outputs": [
    {
     "output_type": "stream",
     "name": "stdout",
     "text": [
      "torch.Size([2813, 128])\ntorch.Size([1, 2813, 128])\n"
     ]
    }
   ],
   "source": [
    "# sample data\n",
    "sample = torch.from_numpy(np.load('melspec.npy'))\n",
    "print(sample.shape)\n",
    "print(sample[np.newaxis, :, :].shape)\n",
    "# channel = sample.unsqueeze(0)\n",
    "# batch = channel.unsqueeze(0)\n",
    "# print(batch.shape)"
   ]
  },
  {
   "cell_type": "code",
   "execution_count": 5,
   "metadata": {},
   "outputs": [
    {
     "output_type": "stream",
     "name": "stderr",
     "text": [
      "Failed to query for notebook name, you can set it manually with the WANDB_NOTEBOOK_NAME environment variable\n",
      "wandb: Currently logged in as: tatsuya-takahashi (use `wandb login --relogin` to force relogin)\n"
     ]
    },
    {
     "output_type": "display_data",
     "data": {
      "text/plain": "<IPython.core.display.HTML object>",
      "text/html": "\n                Tracking run with wandb version 0.10.15<br/>\n                Syncing run <strong style=\"color:#cdcd00\">charmed-snowflake-3</strong> to <a href=\"https://wandb.ai\" target=\"_blank\">Weights & Biases</a> <a href=\"https://docs.wandb.com/integrations/jupyter.html\" target=\"_blank\">(Documentation)</a>.<br/>\n                Project page: <a href=\"https://wandb.ai/tatsuya-takahashi/RFCX\" target=\"_blank\">https://wandb.ai/tatsuya-takahashi/RFCX</a><br/>\n                Run page: <a href=\"https://wandb.ai/tatsuya-takahashi/RFCX/runs/1cbkdlru\" target=\"_blank\">https://wandb.ai/tatsuya-takahashi/RFCX/runs/1cbkdlru</a><br/>\n                Run data is saved locally in <code>d:\\000_devs\\003_kaggle_Rainforest-Connection-Species-Audio-Detection\\Rainforest-Connection-Species-Audio-Detection\\src\\wandb\\run-20210128_205319-1cbkdlru</code><br/><br/>\n            "
     },
     "metadata": {}
    },
    {
     "output_type": "stream",
     "name": "stderr",
     "text": [
      "wandb: WARNING Calling run.save without any arguments is deprecated.Changes to attributes are automatically persisted.\n",
      "42\n"
     ]
    }
   ],
   "source": [
    "params = {\n",
    "    \"SEED\":               42,\n",
    "    \"INPUT\":              Path(\"../input/rfcx-species-audio-detection/train\"),\n",
    "    \"TRAIN_AUDIO_ROOT\":   Path(\"../input/rfcx-species-audio-detection/train_mel\"),\n",
    "    \"TEST_AUDIO_ROOT\":    Path(\"../input/rfcx-species-audio-detection/test_mel\"),\n",
    "    \"TRAIN_TP\":           Path(\"../input/rfcx-species-audio-detection/train_tp.csv\"),\n",
    "    \"SUB\":                Path(\"../input/rfcx-species-audio-detection/sample_submission.csv\"),\n",
    "    \"DIM\":                sample.shape[1],\n",
    "    \"SEQ_LEN\":            sample.shape[0],\n",
    "    \"KERNEL_SIZE\":        3,\n",
    "    \"POOL_SIZE\":          2,\n",
    "    \"POOL_STRIDE\":        2,\n",
    "    \"NUM_BIRDS\":          24,\n",
    "    \"N_FOLDS\":            5,\n",
    "    \"BATCH_NUM\":          40,\n",
    "    \"VALID_BATCH_NUM\":    40,\n",
    "    \"EPOCH_NUM\":          50,\n",
    "    \"DROPOUT\":            0.35,\n",
    "    \"lr\":                 0.0001,\n",
    "    \"eta_min\":            1e-5,\n",
    "    \"t_max\":              10,\n",
    "}\n",
    "wandb.init(config=params, project=PROJECT)\n",
    "config = wandb.config\n",
    "wandb.run.name = EXP_NAME\n",
    "wandb.run.save()\n",
    "print(config.SEED)"
   ]
  },
  {
   "cell_type": "code",
   "execution_count": 6,
   "metadata": {},
   "outputs": [],
   "source": [
    "def set_seed(seed: int = 42):\n",
    "    random.seed(seed)\n",
    "    np.random.seed(seed)\n",
    "    os.environ[\"PYTHONHASHSEED\"] = str(seed)\n",
    "    torch.manual_seed(seed)\n",
    "    torch.cuda.manual_seed(seed)  # type: ignore\n",
    "    torch.backends.cudnn.deterministic = True  # type: ignore\n",
    "    torch.backends.cudnn.benchmark = True  # type: ignore\n",
    "set_seed(config.SEED)"
   ]
  },
  {
   "cell_type": "markdown",
   "metadata": {},
   "source": [
    "## Audio Transform"
   ]
  },
  {
   "cell_type": "code",
   "execution_count": 7,
   "metadata": {},
   "outputs": [],
   "source": [
    "# transform all audio to 2d\n",
    "# run audio_transformer"
   ]
  },
  {
   "source": [
    "## Preprocessing"
   ],
   "cell_type": "markdown",
   "metadata": {}
  },
  {
   "cell_type": "code",
   "execution_count": 8,
   "metadata": {},
   "outputs": [],
   "source": [
    "# Spec Augment\n",
    "\n",
    "\n",
    "\n",
    "\n",
    "\n",
    "\n"
   ]
  },
  {
   "cell_type": "code",
   "execution_count": 9,
   "metadata": {},
   "outputs": [],
   "source": [
    "# any other augment here...\n",
    "\n",
    "\n",
    "\n",
    "\n",
    "\n",
    "\n",
    "\n"
   ]
  },
  {
   "source": [
    "## Modeling"
   ],
   "cell_type": "markdown",
   "metadata": {}
  },
  {
   "cell_type": "code",
   "execution_count": 10,
   "metadata": {},
   "outputs": [],
   "source": [
    "# Conformer\n",
    "# https://arxiv.org/abs/2005.08100\n",
    "class RainforestTransformer(nn.Module):\n",
    "    def __init__(self):\n",
    "        super(RainforestTransformer, self).__init__()         \n",
    "\n",
    "        self.conv = nn.Conv2d(1, 1, config.KERNEL_SIZE)\n",
    "        self.linear = nn.Linear(int(\n",
    "                                    (\n",
    "                                        ((config.DIM - config.KERNEL_SIZE + 1) - config.POOL_SIZE) / config.POOL_STRIDE\n",
    "                                    ) + 1\n",
    "                                ), config.DIM)\n",
    "        self.dropout = nn.Dropout(config.DROPOUT)\n",
    "        \n",
    "        self.conformerblock = ConformerBlock(\n",
    "            dim = config.DIM,\n",
    "            dim_head = 64,\n",
    "            heads = 8,\n",
    "            ff_mult = 4,\n",
    "            conv_expansion_factor = 2,\n",
    "            conv_kernel_size = 31,\n",
    "            attn_dropout = config.DROPOUT,\n",
    "            ff_dropout = config.DROPOUT,\n",
    "            conv_dropout = config.DROPOUT\n",
    "        )\n",
    "        self.decoder = nn.Linear(1 * int((((config.SEQ_LEN - config.KERNEL_SIZE + 1) -  config.POOL_SIZE) / config.POOL_STRIDE) + 1) * config.DIM, config.NUM_BIRDS)\n",
    "\n",
    "        # devided by stride\n",
    "        \n",
    "    def forward(self, x):\n",
    "        h = F.relu(self.conv(x))\n",
    "        h = F.max_pool2d(h, config.POOL_SIZE, stride=config.POOL_STRIDE)\n",
    "        h = self.linear(h)\n",
    "        h = h.transpose(0, 1)[0] # transpose batch and channel to delet channel dimension\n",
    "        h = self.conformerblock(h)\n",
    "        h = h.view(-1, 1 * int((((config.SEQ_LEN - config.KERNEL_SIZE + 1) -  config.POOL_SIZE) / config.POOL_STRIDE) + 1) * config.DIM)\n",
    "        out = self.decoder(h)\n",
    "        return out"
   ]
  },
  {
   "source": [
    "## Metric"
   ],
   "cell_type": "markdown",
   "metadata": {}
  },
  {
   "cell_type": "code",
   "execution_count": 11,
   "metadata": {},
   "outputs": [],
   "source": [
    "# from official code https://colab.research.google.com/drive/1AgPdhSp7ttY18O3fEoHOQKlt_3HJDLi8#scrollTo=cRCaCIb9oguU\n",
    "def _one_sample_positive_class_precisions(scores, truth):\n",
    "    \"\"\"Calculate precisions for each true class for a single sample.\n",
    "\n",
    "    Args:\n",
    "      scores: np.array of (num_classes,) giving the individual classifier scores.\n",
    "      truth: np.array of (num_classes,) bools indicating which classes are true.\n",
    "\n",
    "    Returns:\n",
    "      pos_class_indices: np.array of indices of the true classes for this sample.\n",
    "      pos_class_precisions: np.array of precisions corresponding to each of those\n",
    "        classes.\n",
    "    \"\"\"\n",
    "    num_classes = scores.shape[0]\n",
    "    pos_class_indices = np.flatnonzero(truth > 0)\n",
    "    # Only calculate precisions if there are some true classes.\n",
    "    if not len(pos_class_indices):\n",
    "        return pos_class_indices, np.zeros(0)\n",
    "    # Retrieval list of classes for this sample.\n",
    "    retrieved_classes = np.argsort(scores)[::-1]\n",
    "    # class_rankings[top_scoring_class_index] == 0 etc.\n",
    "    class_rankings = np.zeros(num_classes, dtype=np.int)\n",
    "    class_rankings[retrieved_classes] = range(num_classes)\n",
    "    # Which of these is a true label?\n",
    "    retrieved_class_true = np.zeros(num_classes, dtype=np.bool)\n",
    "    retrieved_class_true[class_rankings[pos_class_indices]] = True\n",
    "    # Num hits for every truncated retrieval list.\n",
    "    retrieved_cumulative_hits = np.cumsum(retrieved_class_true)\n",
    "    # Precision of retrieval list truncated at each hit, in order of pos_labels.\n",
    "    precision_at_hits = (\n",
    "            retrieved_cumulative_hits[class_rankings[pos_class_indices]] /\n",
    "            (1 + class_rankings[pos_class_indices].astype(np.float)))\n",
    "    return pos_class_indices, precision_at_hits\n",
    "\n",
    "\n",
    "def calculate_per_class_lwlrap(truth, scores):\n",
    "    \"\"\"Calculate label-weighted label-ranking average precision.\n",
    "\n",
    "    Arguments:\n",
    "      truth: np.array of (num_samples, num_classes) giving boolean ground-truth\n",
    "        of presence of that class in that sample.\n",
    "      scores: np.array of (num_samples, num_classes) giving the classifier-under-\n",
    "        test's real-valued score for each class for each sample.\n",
    "\n",
    "    Returns:\n",
    "      per_class_lwlrap: np.array of (num_classes,) giving the lwlrap for each\n",
    "        class.\n",
    "      weight_per_class: np.array of (num_classes,) giving the prior of each\n",
    "        class within the truth labels.  Then the overall unbalanced lwlrap is\n",
    "        simply np.sum(per_class_lwlrap * weight_per_class)\n",
    "    \"\"\"\n",
    "    assert truth.shape == scores.shape\n",
    "    num_samples, num_classes = scores.shape\n",
    "    # Space to store a distinct precision value for each class on each sample.\n",
    "    # Only the classes that are true for each sample will be filled in.\n",
    "    precisions_for_samples_by_classes = np.zeros((num_samples, num_classes))\n",
    "    for sample_num in range(num_samples):\n",
    "        pos_class_indices, precision_at_hits = (\n",
    "            _one_sample_positive_class_precisions(scores[sample_num, :],\n",
    "                                                  truth[sample_num, :]))\n",
    "        precisions_for_samples_by_classes[sample_num, pos_class_indices] = (\n",
    "            precision_at_hits)\n",
    "    labels_per_class = np.sum(truth > 0, axis=0)\n",
    "    weight_per_class = labels_per_class / float(np.sum(labels_per_class))\n",
    "    # Form average of each column, i.e. all the precisions assigned to labels in\n",
    "    # a particular class.\n",
    "    per_class_lwlrap = (np.sum(precisions_for_samples_by_classes, axis=0) /\n",
    "                        np.maximum(1, labels_per_class))\n",
    "    # overall_lwlrap = simple average of all the actual per-class, per-sample precisions\n",
    "    #                = np.sum(precisions_for_samples_by_classes) / np.sum(precisions_for_samples_by_classes > 0)\n",
    "    #           also = weighted mean of per-class lwlraps, weighted by class label prior across samples\n",
    "    #                = np.sum(per_class_lwlrap * weight_per_class)\n",
    "    return per_class_lwlrap, weight_per_class"
   ]
  },
  {
   "source": [
    "## Transforms"
   ],
   "cell_type": "markdown",
   "metadata": {}
  },
  {
   "cell_type": "code",
   "execution_count": 12,
   "metadata": {},
   "outputs": [],
   "source": [
    "# transforms\n",
    "train_transform = transforms.Compose([\n",
    "    # transforms.RandomCrop((128, 313), pad_if_needed=True, padding_mode=\"constant\"),\n",
    "    # transforms.ToTensor()\n",
    "])\n",
    "valid_transform = transforms.Compose([\n",
    "    # transforms.CenterCrop((128, 313)),\n",
    "    # transforms.ToTensor()\n",
    "])\n",
    "label_transform = transforms.Compose([\n",
    "    # transforms.ToTensor()\n",
    "])"
   ]
  },
  {
   "source": [
    "## Dataset"
   ],
   "cell_type": "markdown",
   "metadata": {}
  },
  {
   "cell_type": "code",
   "execution_count": 13,
   "metadata": {},
   "outputs": [
    {
     "output_type": "execute_result",
     "data": {
      "text/plain": [
       "    recording_id  species_id  songtype_id    t_min   f_min   t_max    f_max  \\\n",
       "538    77299bde7          21            1  42.3787  3750.0  43.472  5531.25   \n",
       "\n",
       "     0  1  2  3  4  5  6  7  8  9  10  11  12  13  14  15  16  17  18  19  20  \\\n",
       "538  0  0  0  0  0  0  0  0  1  0   0   0   0   0   0   0   0   0   0   0   0   \n",
       "\n",
       "     21  22  23  \n",
       "538   1   0   0  "
      ],
      "text/html": "<div>\n<style scoped>\n    .dataframe tbody tr th:only-of-type {\n        vertical-align: middle;\n    }\n\n    .dataframe tbody tr th {\n        vertical-align: top;\n    }\n\n    .dataframe thead th {\n        text-align: right;\n    }\n</style>\n<table border=\"1\" class=\"dataframe\">\n  <thead>\n    <tr style=\"text-align: right;\">\n      <th></th>\n      <th>recording_id</th>\n      <th>species_id</th>\n      <th>songtype_id</th>\n      <th>t_min</th>\n      <th>f_min</th>\n      <th>t_max</th>\n      <th>f_max</th>\n      <th>0</th>\n      <th>1</th>\n      <th>2</th>\n      <th>3</th>\n      <th>4</th>\n      <th>5</th>\n      <th>6</th>\n      <th>7</th>\n      <th>8</th>\n      <th>9</th>\n      <th>10</th>\n      <th>11</th>\n      <th>12</th>\n      <th>13</th>\n      <th>14</th>\n      <th>15</th>\n      <th>16</th>\n      <th>17</th>\n      <th>18</th>\n      <th>19</th>\n      <th>20</th>\n      <th>21</th>\n      <th>22</th>\n      <th>23</th>\n    </tr>\n  </thead>\n  <tbody>\n    <tr>\n      <th>538</th>\n      <td>77299bde7</td>\n      <td>21</td>\n      <td>1</td>\n      <td>42.3787</td>\n      <td>3750.0</td>\n      <td>43.472</td>\n      <td>5531.25</td>\n      <td>0</td>\n      <td>0</td>\n      <td>0</td>\n      <td>0</td>\n      <td>0</td>\n      <td>0</td>\n      <td>0</td>\n      <td>0</td>\n      <td>1</td>\n      <td>0</td>\n      <td>0</td>\n      <td>0</td>\n      <td>0</td>\n      <td>0</td>\n      <td>0</td>\n      <td>0</td>\n      <td>0</td>\n      <td>0</td>\n      <td>0</td>\n      <td>0</td>\n      <td>0</td>\n      <td>1</td>\n      <td>0</td>\n      <td>0</td>\n    </tr>\n  </tbody>\n</table>\n</div>"
     },
     "metadata": {},
     "execution_count": 13
    }
   ],
   "source": [
    "# Data load\n",
    "df_train_tp = pd.read_csv(config.TRAIN_TP)\n",
    "\n",
    "# add column\n",
    "for col in range(24):\n",
    "    df_train_tp[col] = 0\n",
    "\n",
    "# bit\n",
    "for index, row in df_train_tp.iterrows():\n",
    "    specId = row[\"species_id\"]\n",
    "    for col in range(24):\n",
    "        if int(specId) == col:\n",
    "            df_train_tp.iloc[index, df_train_tp.columns.get_loc(col)] = 1\n",
    "\n",
    "# grouping\n",
    "df_train_tp = df_train_tp.groupby(\"recording_id\", as_index=False).max()\n",
    "\n",
    "# check\n",
    "df_train_tp[df_train_tp[\"recording_id\"] == \"77299bde7\"].head(100)\n"
   ]
  },
  {
   "cell_type": "code",
   "execution_count": 14,
   "metadata": {},
   "outputs": [
    {
     "output_type": "stream",
     "name": "stdout",
     "text": [
      "003bec244\n[0. 0. 0. 0. 0. 0. 0. 0. 0. 0. 0. 0. 0. 0. 1. 0. 0. 0. 0. 0. 0. 0. 0. 0.]\n"
     ]
    }
   ],
   "source": [
    "# load data\n",
    "record_ids = []\n",
    "labels = []\n",
    "for index, row in df_train_tp.iterrows():\n",
    "    record_ids.append(row.values[0])\n",
    "    labels.append(row.values[7:31])\n",
    "\n",
    "labels = np.array(labels).astype(float)\n",
    "\n",
    "print(record_ids[0])\n",
    "print(labels[0])\n"
   ]
  },
  {
   "cell_type": "code",
   "execution_count": 15,
   "metadata": {},
   "outputs": [],
   "source": [
    "class RainforestDatasets(torch.utils.data.Dataset):\n",
    "    def __init__(self, transform = None, train = True):\n",
    "        self.transform = transform\n",
    "        self.train = train\n",
    "\n",
    "        # data load\n",
    "        self.labelset = labels\n",
    "        self.dataset = []\n",
    "        for rid in record_ids:\n",
    "            # read npy\n",
    "            melspec = np.load(os.path.join(config.TRAIN_AUDIO_ROOT, rid + \".npy\"))\n",
    "            # melspec = torch.from_numpy(melspec)\n",
    "            # melspec = melspec.unsqueeze(0) # add channel for first convolution\n",
    "            melspec = melspec[np.newaxis, :, :]\n",
    "            self.dataset.append(melspec)\n",
    "\n",
    "        self.dataset = np.array(self.dataset).astype(float)\n",
    "        self.datanum = len(self.dataset)\n",
    "        \n",
    "\n",
    "    def __len__(self):\n",
    "        return self.datanum\n",
    "\n",
    "    def __getitem__(self, idx):\n",
    "        # get data\n",
    "        out_label = self.labelset[idx]\n",
    "        out_data = self.dataset[idx]\n",
    "\n",
    "        # print(type(out_label))\n",
    "        \n",
    "        # transform label\n",
    "        # out_data = self.transform(out_data)\n",
    "        # out_label = label_transform(out_label)\n",
    "\n",
    "        # print(type(out_data.shape))\n",
    "        # print(out_label)\n",
    "\n",
    "        # print(out_data.shape)\n",
    "\n",
    "        out_label = torch.from_numpy(out_label).float()\n",
    "        out_data = torch.from_numpy(out_data).float()\n",
    "        # print(type(out_data))\n",
    "        # print(type(np.array(out_label)))\n",
    "        # print(out_data.shape)\n",
    "\n",
    "        return out_data, out_label"
   ]
  },
  {
   "source": [
    "## Train"
   ],
   "cell_type": "markdown",
   "metadata": {}
  },
  {
   "cell_type": "code",
   "execution_count": 16,
   "metadata": {},
   "outputs": [],
   "source": [
    "# model = RainforestTransformer()\n",
    "# make_dot(model(), params=dict(model.named_parameters()))"
   ]
  },
  {
   "cell_type": "code",
   "execution_count": 17,
   "metadata": {},
   "outputs": [],
   "source": [
    "def train():\n",
    "\n",
    "    # Stratified k-fold\n",
    "    # skf = StratifiedKFold(n_splits=config.N_FOLDS, shuffle=True, random_state=config.SEED)\n",
    "    msss = MultilabelStratifiedShuffleSplit(n_splits=config.N_FOLDS, test_size=0.2, random_state=config.SEED)\n",
    "\n",
    "    # Read dataset\n",
    "    train_datasets = RainforestDatasets(transform=train_transform)\n",
    "    valid_datasets = RainforestDatasets(transform=valid_transform)\n",
    "\n",
    "    best_epochs = []\n",
    "    best_lwlraps = []\n",
    "    best_lwlrap = 0.\n",
    "    best_epoch = 0\n",
    "\n",
    "    if IS_WRITRE_LOG:\n",
    "        writer = SummaryWriter(log_dir=\"./logs/\" + EXP_NAME)\n",
    "\n",
    "    # k-fold\n",
    "    for kfoldidx, (train_index, valid_index) in enumerate(msss.split(labels, labels)):\n",
    "\n",
    "        # model \n",
    "        model = RainforestTransformer()\n",
    "        model.to(device)\n",
    "\n",
    "        if IS_WRITRE_LOG:\n",
    "            wandb.watch(model)\n",
    "\n",
    "        # criterion\n",
    "        criterion = nn.BCEWithLogitsLoss().cuda()\n",
    "\n",
    "        # optimizer\n",
    "        optimizer = Adam(params=model.parameters(), lr=config.lr, amsgrad=False)\n",
    "        # print(optimizer)\n",
    "\n",
    "        # scheduler\n",
    "        scheduler = CosineAnnealingLR(optimizer, T_max=config.t_max, eta_min=config.eta_min)\n",
    "\n",
    "        # train\n",
    "        train_subset = Subset(train_datasets, train_index)\n",
    "        train_loader = DataLoader(train_subset, batch_size=config.BATCH_NUM, shuffle=True)\n",
    "\n",
    "        # validation\n",
    "        valid_subset = Subset(valid_datasets, valid_index)\n",
    "        valid_loader = DataLoader(valid_subset, batch_size=config.VALID_BATCH_NUM, shuffle=False)\n",
    "\n",
    "        # epoch\n",
    "        mb = master_bar(range(config.EPOCH_NUM))\n",
    "        mb.names = ['avg_loss', 'avg_val_loss', 'lwlrap']\n",
    "\n",
    "        # Epoch\n",
    "        for epoch in mb:\n",
    "\n",
    "            # start time\n",
    "            start_time = time.time()\n",
    "\n",
    "            # train mode\n",
    "            model.train()\n",
    "\n",
    "            # init loss\n",
    "            avg_loss = 0.\n",
    "\n",
    "            # batch training\n",
    "            train_batch_preds = []\n",
    "            train_batch_labels = []\n",
    "            for x_batch, y_batch in progress_bar(train_loader, parent=mb):\n",
    "                preds = model(x_batch.to(device))\n",
    "                loss = criterion(preds, y_batch.to(device)) # It dosen't need Sigmoid, because BCE includes sigmoid function.\n",
    "\n",
    "                optimizer.zero_grad()\n",
    "                loss.backward()\n",
    "                optimizer.step()\n",
    "\n",
    "                avg_loss += loss.item() / len(train_loader)\n",
    "\n",
    "                # add preds\n",
    "                train_batch_preds.extend(preds.detach().cpu().numpy())\n",
    "                train_batch_labels.extend(np.array(y_batch))\n",
    "\n",
    "            # calc score\n",
    "            score, weight = calculate_per_class_lwlrap(np.array(train_batch_labels), np.array(train_batch_preds))\n",
    "            train_lwlrap = (score * weight).sum()\n",
    "\n",
    "            # validation mode\n",
    "            model.eval()\n",
    "            valid_preds = np.zeros((len(valid_index), config.NUM_BIRDS))\n",
    "            avg_val_loss = 0.\n",
    "\n",
    "            # validation\n",
    "            for i, (x_batch, y_batch) in enumerate(valid_loader):\n",
    "                preds = model(x_batch.to(device)).detach()\n",
    "                loss = criterion(preds, y_batch.to(device))\n",
    "\n",
    "                preds = torch.sigmoid(preds)\n",
    "                valid_preds[i * config.VALID_BATCH_NUM: (i+1) * config.VALID_BATCH_NUM] = preds.cpu().numpy()\n",
    "\n",
    "                avg_val_loss += loss.item() / len(valid_loader)\n",
    "\n",
    "            # calc score\n",
    "            score, weight = calculate_per_class_lwlrap(labels[valid_index], valid_preds)\n",
    "            lwlrap = (score * weight).sum()\n",
    "\n",
    "            # update lr\n",
    "            scheduler.step()\n",
    "\n",
    "            # tensorboard\n",
    "            if IS_WRITRE_LOG:\n",
    "                # tensorboard\n",
    "                writer.add_scalar(\"train_loss/fold-\" + str(kfoldidx), avg_loss, epoch)\n",
    "                writer.add_scalar(\"valid_loss/fold-\" + str(kfoldidx), avg_val_loss, epoch)\n",
    "                writer.add_scalar(\"train_lwlrap/fold-\" + str(kfoldidx), train_lwlrap, epoch)\n",
    "                writer.add_scalar(\"valid_lwlrap/fold-\" + str(kfoldidx), lwlrap, epoch)\n",
    "\n",
    "                # wandb\n",
    "                wandb.log({\n",
    "                    f'loss/train/fold-{kfoldidx}': avg_loss,\n",
    "                    f'lwlrap/train/fold-{kfoldidx}': train_lwlrap,\n",
    "                    f'loss/validation/fold-{kfoldidx}': avg_val_loss,\n",
    "                    f'lwlrap/validation/fold-{kfoldidx}': lwlrap,\n",
    "                    'epoch': epoch\n",
    "                })\n",
    "\n",
    "\n",
    "            if (epoch + 1) % 5 == 0:\n",
    "                elapsed = time.time() - start_time\n",
    "                mb.write(f'Epoch {epoch+1} - avg_train_loss: {avg_loss:.4f}  avg_val_loss: {avg_val_loss:.4f}  val_lwlrap: {lwlrap:.6f}  time: {elapsed:.0f}s')\n",
    "        \n",
    "            if lwlrap > best_lwlrap:\n",
    "                best_epoch = epoch + 1\n",
    "                best_lwlrap = lwlrap\n",
    "                torch.save(model.state_dict(), 'weight_best_fold' + str(kfoldidx) +'.pt')\n",
    "            \n",
    "        best_epochs.append(best_epoch)\n",
    "        best_lwlraps.append(best_lwlrap)\n",
    "\n",
    "    if IS_WRITRE_LOG:\n",
    "        writer.close()\n",
    "    \n",
    "    return {\n",
    "        'best_epoch': best_epochs,\n",
    "        'best_lwlrap': best_lwlraps,\n",
    "    }\n",
    "\n",
    "\n"
   ]
  },
  {
   "cell_type": "code",
   "execution_count": 18,
   "metadata": {},
   "outputs": [
    {
     "output_type": "display_data",
     "data": {
      "text/plain": "<IPython.core.display.HTML object>",
      "text/html": "\n    <div>\n        <style>\n            /* Turns off some styling */\n            progress {\n                /* gets rid of default border in Firefox and Opera. */\n                border: none;\n                /* Needs to be in here for Safari polyfill so background images work as expected. */\n                background-size: auto;\n            }\n            .progress-bar-interrupted, .progress-bar-interrupted::-webkit-progress-bar {\n                background: #F44336;\n            }\n        </style>\n      <progress value='0' class='' max='50' style='width:300px; height:20px; vertical-align: middle;'></progress>\n      \n    </div>\n    \n"
     },
     "metadata": {}
    },
    {
     "output_type": "display_data",
     "data": {
      "text/plain": "<IPython.core.display.HTML object>",
      "text/html": "\n    <div>\n        <style>\n            /* Turns off some styling */\n            progress {\n                /* gets rid of default border in Firefox and Opera. */\n                border: none;\n                /* Needs to be in here for Safari polyfill so background images work as expected. */\n                background-size: auto;\n            }\n            .progress-bar-interrupted, .progress-bar-interrupted::-webkit-progress-bar {\n                background: #F44336;\n            }\n        </style>\n      <progress value='0' class='' max='50' style='width:300px; height:20px; vertical-align: middle;'></progress>\n      \n    </div>\n    \n"
     },
     "metadata": {}
    },
    {
     "output_type": "display_data",
     "data": {
      "text/plain": "<IPython.core.display.HTML object>",
      "text/html": "\n    <div>\n        <style>\n            /* Turns off some styling */\n            progress {\n                /* gets rid of default border in Firefox and Opera. */\n                border: none;\n                /* Needs to be in here for Safari polyfill so background images work as expected. */\n                background-size: auto;\n            }\n            .progress-bar-interrupted, .progress-bar-interrupted::-webkit-progress-bar {\n                background: #F44336;\n            }\n        </style>\n      <progress value='0' class='' max='50' style='width:300px; height:20px; vertical-align: middle;'></progress>\n      \n    </div>\n    \n"
     },
     "metadata": {}
    },
    {
     "output_type": "display_data",
     "data": {
      "text/plain": "<IPython.core.display.HTML object>",
      "text/html": "\n    <div>\n        <style>\n            /* Turns off some styling */\n            progress {\n                /* gets rid of default border in Firefox and Opera. */\n                border: none;\n                /* Needs to be in here for Safari polyfill so background images work as expected. */\n                background-size: auto;\n            }\n            .progress-bar-interrupted, .progress-bar-interrupted::-webkit-progress-bar {\n                background: #F44336;\n            }\n        </style>\n      <progress value='0' class='' max='50' style='width:300px; height:20px; vertical-align: middle;'></progress>\n      \n    </div>\n    \n"
     },
     "metadata": {}
    },
    {
     "output_type": "display_data",
     "data": {
      "text/plain": "<IPython.core.display.HTML object>",
      "text/html": "\n    <div>\n        <style>\n            /* Turns off some styling */\n            progress {\n                /* gets rid of default border in Firefox and Opera. */\n                border: none;\n                /* Needs to be in here for Safari polyfill so background images work as expected. */\n                background-size: auto;\n            }\n            .progress-bar-interrupted, .progress-bar-interrupted::-webkit-progress-bar {\n                background: #F44336;\n            }\n        </style>\n      <progress value='0' class='' max='50' style='width:300px; height:20px; vertical-align: middle;'></progress>\n      \n    </div>\n    \n"
     },
     "metadata": {}
    },
    {
     "output_type": "stream",
     "name": "stdout",
     "text": [
      "{'best_epoch': [33, 33, 33, 33, 33], 'best_lwlrap': [0.5826794957184678, 0.5826794957184678, 0.5826794957184678, 0.5826794957184678, 0.5826794957184678]}\n"
     ]
    }
   ],
   "source": [
    "result = train()\n",
    "print(result)"
   ]
  },
  {
   "cell_type": "code",
   "execution_count": null,
   "metadata": {},
   "outputs": [],
   "source": []
  },
  {
   "source": [
    "## Predict"
   ],
   "cell_type": "markdown",
   "metadata": {}
  },
  {
   "cell_type": "code",
   "execution_count": 19,
   "metadata": {},
   "outputs": [],
   "source": [
    "# prediction\n",
    "models = []\n",
    "for fold in range(config.N_FOLDS):\n",
    "    # load network\n",
    "    model = RainforestTransformer()\n",
    "    model.load_state_dict(torch.load('weight_best_fold' + str(fold) +'.pt'))\n",
    "    model.to(device)\n",
    "    model.eval()\n",
    "    models.append(model)\n"
   ]
  },
  {
   "cell_type": "code",
   "execution_count": null,
   "metadata": {},
   "outputs": [],
   "source": []
  },
  {
   "cell_type": "code",
   "execution_count": 20,
   "metadata": {},
   "outputs": [
    {
     "output_type": "stream",
     "name": "stdout",
     "text": [
      "1992\n",
      "Predicted for 100 of 1993 files\n",
      "Predicted for 200 of 1993 files\n",
      "Predicted for 300 of 1993 files\n",
      "Predicted for 400 of 1993 files\n",
      "Predicted for 500 of 1993 files\n",
      "Predicted for 600 of 1993 files\n",
      "Predicted for 700 of 1993 files\n",
      "Predicted for 800 of 1993 files\n",
      "Predicted for 900 of 1993 files\n",
      "Predicted for 1000 of 1993 files\n",
      "Predicted for 1100 of 1993 files\n",
      "Predicted for 1200 of 1993 files\n",
      "Predicted for 1300 of 1993 files\n",
      "Predicted for 1400 of 1993 files\n",
      "Predicted for 1500 of 1993 files\n",
      "Predicted for 1600 of 1993 files\n",
      "Predicted for 1700 of 1993 files\n",
      "Predicted for 1800 of 1993 files\n",
      "Predicted for 1900 of 1993 files\n"
     ]
    }
   ],
   "source": [
    "# write submission\n",
    "with open('submission.csv', 'w', newline='') as csvfile:\n",
    "    submission_writer = csv.writer(csvfile, delimiter=',')\n",
    "    submission_writer.writerow(['recording_id','s0','s1','s2','s3','s4','s5','s6','s7','s8','s9','s10','s11',\n",
    "                               's12','s13','s14','s15','s16','s17','s18','s19','s20','s21','s22','s23'])\n",
    "    \n",
    "    test_files = os.listdir(config.TEST_AUDIO_ROOT)\n",
    "    print(len(test_files))\n",
    "    \n",
    "    # Every test file is split on several chunks and prediction is made for each chunk\n",
    "    for i in range(0, len(test_files)):\n",
    "        # read data\n",
    "        X_test = torch.from_numpy(np.load(os.path.join(config.TEST_AUDIO_ROOT, test_files[i])))\n",
    "        X_test = X_test.unsqueeze(0) # add channel for first convolution\n",
    "        X_test = X_test.unsqueeze(0) # add batch for network\n",
    "        X_test = X_test.to(device)\n",
    "\n",
    "        # predict\n",
    "        output_list = []\n",
    "        for m in models:\n",
    "            output = m(X_test)\n",
    "            maxed_output = torch.max(output, dim=0)[0]\n",
    "            maxed_output = maxed_output.cpu().detach()\n",
    "            output_list.append(maxed_output)\n",
    "        avg_maxed_output = torch.mean(torch.stack(output_list), dim=0)\n",
    "        \n",
    "        file_id = str.split(test_files[i], '.')[0]\n",
    "        write_array = [file_id]\n",
    "        \n",
    "#         for out in maxed_output:\n",
    "        for out in avg_maxed_output:\n",
    "            write_array.append(out.item())\n",
    "    \n",
    "        submission_writer.writerow(write_array)\n",
    "        \n",
    "        if i % 100 == 0 and i > 0:\n",
    "            print('Predicted for ' + str(i) + ' of ' + str(len(test_files) + 1) + ' files')"
   ]
  },
  {
   "cell_type": "code",
   "execution_count": null,
   "metadata": {},
   "outputs": [],
   "source": []
  }
 ],
 "metadata": {
  "kernelspec": {
   "display_name": "Python 3",
   "language": "python",
   "name": "python3"
  },
  "language_info": {
   "codemirror_mode": {
    "name": "ipython",
    "version": 3
   },
   "file_extension": ".py",
   "mimetype": "text/x-python",
   "name": "python",
   "nbconvert_exporter": "python",
   "pygments_lexer": "ipython3",
   "version": "3.8.5-final"
  }
 },
 "nbformat": 4,
 "nbformat_minor": 4
}