{
 "cells": [
  {
   "cell_type": "markdown",
   "metadata": {},
   "source": [
    "## train"
   ]
  },
  {
   "cell_type": "code",
   "execution_count": 1,
   "metadata": {},
   "outputs": [],
   "source": [
    "import numpy as np\n",
    "import pandas as pd\n",
    "import os\n",
    "import tqdm\n",
    "import random\n",
    "import time\n",
    "import math\n",
    "import torch\n",
    "import torch.nn as nn\n",
    "from torch.nn import functional as F\n",
    "from torch.optim import Adam, AdamW\n",
    "from torchvision.models import resnet18, resnet34, resnet50\n",
    "from torchvision import datasets, transforms\n",
    "from torch.optim.lr_scheduler import CosineAnnealingLR, ReduceLROnPlateau\n",
    "import matplotlib.pyplot as plt\n",
    "from sklearn.metrics import f1_score\n",
    "from sklearn.model_selection import StratifiedKFold\n",
    "from contextlib import contextmanager\n",
    "from typing import Optional\n",
    "import logging\n",
    "from numpy.random import beta\n",
    "from pathlib import Path\n",
    "\n",
    "from conformer import ConformerConvModule\n",
    "from conformer import ConformerBlock\n"
   ]
  },
  {
   "cell_type": "code",
   "execution_count": 2,
   "metadata": {},
   "outputs": [
    {
     "output_type": "stream",
     "name": "stdout",
     "text": [
      "cuda:0\n"
     ]
    }
   ],
   "source": [
    "# use GPU\n",
    "device = torch.device('cuda:0' if torch.cuda.is_available() else 'cpu')\n",
    "print(device)"
   ]
  },
  {
   "cell_type": "code",
   "execution_count": 3,
   "metadata": {},
   "outputs": [],
   "source": [
    "def set_seed(seed: int = 42):\n",
    "    random.seed(seed)\n",
    "    np.random.seed(seed)\n",
    "    os.environ[\"PYTHONHASHSEED\"] = str(seed)\n",
    "    torch.manual_seed(seed)\n",
    "    torch.cuda.manual_seed(seed)  # type: ignore\n",
    "    torch.backends.cudnn.deterministic = True  # type: ignore\n",
    "    torch.backends.cudnn.benchmark = True  # type: ignore"
   ]
  },
  {
   "cell_type": "code",
   "execution_count": 4,
   "metadata": {},
   "outputs": [],
   "source": [
    "class config:\n",
    "    SEED = 416\n",
    "    INPUT = Path(\"../input/rfcx-species-audio-detection/train\")\n",
    "    OUTPUT = \"/kaggle/working\""
   ]
  },
  {
   "cell_type": "markdown",
   "metadata": {},
   "source": [
    "## Audio Transform"
   ]
  },
  {
   "cell_type": "code",
   "execution_count": 18,
   "metadata": {},
   "outputs": [],
   "source": [
    "# transform all audio to 2d\n",
    "# run audio_transformer"
   ]
  },
  {
   "source": [
    "## Preprocessing"
   ],
   "cell_type": "markdown",
   "metadata": {}
  },
  {
   "cell_type": "code",
   "execution_count": null,
   "metadata": {},
   "outputs": [],
   "source": []
  },
  {
   "cell_type": "code",
   "execution_count": null,
   "metadata": {},
   "outputs": [],
   "source": []
  },
  {
   "cell_type": "code",
   "execution_count": null,
   "metadata": {},
   "outputs": [],
   "source": []
  },
  {
   "source": [
    "## Data Loader"
   ],
   "cell_type": "markdown",
   "metadata": {}
  },
  {
   "cell_type": "code",
   "execution_count": null,
   "metadata": {},
   "outputs": [],
   "source": [
    "def get_dataloder():\n",
    "    # transform\n",
    "    train_transform = transforms.Compose([\n",
    "        # transforms.RandomCrop((128, 313), pad_if_needed=True, padding_mode=\"constant\"),\n",
    "        transforms.ToTensor(),\n",
    "    ])\n",
    "    valid_transform = transforms.Compose([\n",
    "        # transforms.CenterCrop((128, 313)),\n",
    "        transforms.ToTensor()\n",
    "    ])\n",
    "    \n",
    "    # dataset\n",
    "    train_datasets = datasets.ImageFolder(root=config.INPUT, transform=train_transform)\n",
    "    valid_datasets = datasets.ImageFolder(root=config.INPUT, transform=valid_transform)\n",
    "\n",
    "    # k-fold\n",
    "    skf = StratifiedKFold(n_splits=config.N_FOLDS, shuffle=True, random_state=config.SEED)\n",
    "\n",
    "    # target\n",
    "    _t = train_datasets.targets\n",
    "    trn_idx, val_idx = [(trn_idx, val_idx) for trn_idx, val_idx in skf.split(_t, _t)][config.FOLD]\n",
    "\n",
    "    # subset\n",
    "    train_datasets = torch.utils.data.Subset(train_datasets, trn_idx)\n",
    "    valid_datasets = torch.utils.data.Subset(valid_datasets, val_idx)\n",
    "\n",
    "    # dataloader\n",
    "    train_data_loader = torch.utils.data.DataLoader(train_datasets, batch_size=config.TRAIN_BS, shuffle=True, num_workers=config.TRAIN_WORKS)\n",
    "    valid_data_loader = torch.utils.data.DataLoader(valid_datasets, batch_size=config.VALID_BS, shuffle=False, num_workers=config.VALID_WORKS)\n",
    "    \n",
    "    return train_data_loader, valid_data_loader\n",
    "\n",
    "# dataloader\n",
    "train_data_loader, valid_data_loader = get_dataloder()\n",
    "\n",
    "# ?\n",
    "for d in train_data_loader:\n",
    "    break\n",
    "\n",
    "# ?\n",
    "img = d[0][0]\n",
    "plt.imshow(np.rollaxis(img.numpy(), 0, 3))"
   ]
  },
  {
   "cell_type": "code",
   "execution_count": 11,
   "metadata": {},
   "outputs": [
    {
     "output_type": "error",
     "ename": "RuntimeError",
     "evalue": "CUDA error: an illegal memory access was encountered",
     "traceback": [
      "\u001b[1;31m---------------------------------------------------------------------------\u001b[0m",
      "\u001b[1;31mRuntimeError\u001b[0m                              Traceback (most recent call last)",
      "\u001b[1;32m<ipython-input-11-cd0a8dbf24e9>\u001b[0m in \u001b[0;36m<module>\u001b[1;34m\u001b[0m\n\u001b[0;32m      1\u001b[0m \u001b[0mx\u001b[0m \u001b[1;33m=\u001b[0m \u001b[0mtorch\u001b[0m\u001b[1;33m.\u001b[0m\u001b[0mrandn\u001b[0m\u001b[1;33m(\u001b[0m\u001b[1;36m100\u001b[0m\u001b[1;33m,\u001b[0m \u001b[1;36m1024\u001b[0m\u001b[1;33m,\u001b[0m \u001b[1;36m1000\u001b[0m\u001b[1;33m)\u001b[0m\u001b[1;33m\u001b[0m\u001b[1;33m\u001b[0m\u001b[0m\n\u001b[1;32m----> 2\u001b[1;33m \u001b[0mx\u001b[0m \u001b[1;33m=\u001b[0m \u001b[0mx\u001b[0m\u001b[1;33m.\u001b[0m\u001b[0mto\u001b[0m\u001b[1;33m(\u001b[0m\u001b[0mdevice\u001b[0m\u001b[1;33m)\u001b[0m\u001b[1;33m\u001b[0m\u001b[1;33m\u001b[0m\u001b[0m\n\u001b[0m",
      "\u001b[1;31mRuntimeError\u001b[0m: CUDA error: an illegal memory access was encountered"
     ]
    }
   ],
   "source": [
    "x = torch.randn(100, 1024, 1000)\n",
    "x = x.to(device)"
   ]
  },
  {
   "cell_type": "code",
   "execution_count": 12,
   "metadata": {},
   "outputs": [],
   "source": [
    "layer = ConformerConvModule(\n",
    "    dim = 1000,\n",
    "    causal = False,             # auto-regressive or not - 1d conv will be made causal with padding if so\n",
    "    expansion_factor = 2,       # what multiple of the dimension to expand for the depthwise convolution\n",
    "    kernel_size = 31,           # kernel size, 17 - 31 was said to be optimal\n",
    "    dropout = 0.                # dropout at the very end\n",
    ")\n",
    "x = layer(x) + x"
   ]
  },
  {
   "cell_type": "code",
   "execution_count": 13,
   "metadata": {},
   "outputs": [
    {
     "output_type": "execute_result",
     "data": {
      "text/plain": [
       "torch.Size([100, 1024, 1000])"
      ]
     },
     "metadata": {},
     "execution_count": 13
    }
   ],
   "source": [
    "x.shape"
   ]
  },
  {
   "cell_type": "code",
   "execution_count": 14,
   "metadata": {},
   "outputs": [
    {
     "output_type": "execute_result",
     "data": {
      "text/plain": [
       "tensor([[[-8.2625e-02,  1.3729e+00,  6.1499e-01,  ...,  1.2382e+00,\n",
       "          -3.1172e+00,  9.3844e-01],\n",
       "         [ 4.2708e-01, -6.2781e-01, -2.7205e-01,  ..., -1.3194e-01,\n",
       "           1.1173e+00, -3.1611e-01],\n",
       "         [-9.8986e-01, -1.1533e+00,  2.1363e+00,  ..., -8.9860e-01,\n",
       "          -7.7698e-01,  7.7793e-01],\n",
       "         ...,\n",
       "         [-2.7806e-01,  5.6589e-01, -1.7443e+00,  ..., -7.7034e-01,\n",
       "           4.4023e-01,  5.9001e-01],\n",
       "         [ 1.6416e+00, -1.2186e+00, -1.8733e+00,  ...,  8.7656e-01,\n",
       "           2.5466e-01,  7.7383e-01],\n",
       "         [-1.1374e+00, -4.8029e-02,  5.5781e-01,  ...,  8.9890e-01,\n",
       "           1.5303e+00,  1.3465e+00]],\n",
       "\n",
       "        [[ 5.8669e-01,  1.3152e+00, -7.7389e-01,  ...,  5.5820e-01,\n",
       "           3.1729e-01, -1.0471e+00],\n",
       "         [-4.0519e-01,  5.1771e-01, -1.0939e+00,  ..., -8.4925e-01,\n",
       "          -5.4616e-01,  3.5948e+00],\n",
       "         [ 3.9591e-01, -2.0474e+00,  6.0393e-01,  ...,  6.1673e-02,\n",
       "          -5.9224e-01,  1.0050e+00],\n",
       "         ...,\n",
       "         [-2.9284e-01, -9.7641e-01, -2.0985e+00,  ..., -7.2687e-01,\n",
       "           1.3517e+00,  1.2577e+00],\n",
       "         [ 7.3870e-01,  6.1591e-01, -2.2108e+00,  ...,  4.9796e-01,\n",
       "           4.9509e-01, -4.7652e-01],\n",
       "         [ 1.8721e-01, -3.2633e-01, -8.3337e-01,  ..., -9.7642e-02,\n",
       "           8.4621e-01,  2.4587e-01]],\n",
       "\n",
       "        [[-9.0333e-01,  8.5274e-02,  6.8041e-01,  ...,  9.1178e-01,\n",
       "          -3.5551e-01, -9.7163e-01],\n",
       "         [ 2.7904e-02, -7.7084e-01, -1.5267e-01,  ...,  1.4095e+00,\n",
       "           4.3931e-01,  6.8726e-01],\n",
       "         [ 7.2679e-01,  1.1639e-01, -6.8506e-01,  ...,  1.2372e+00,\n",
       "           1.6297e+00,  3.6681e-01],\n",
       "         ...,\n",
       "         [-1.4326e+00,  2.6310e-01,  2.5472e-01,  ...,  5.8904e-01,\n",
       "           5.3407e-01, -1.5039e+00],\n",
       "         [ 2.4867e-01,  3.4438e+00,  3.0971e-01,  ...,  2.0081e-01,\n",
       "           5.0302e-01, -2.8584e-01],\n",
       "         [ 3.1844e-01,  2.8418e-01,  1.3889e+00,  ..., -1.1278e-01,\n",
       "          -1.0172e+00,  2.0937e-01]],\n",
       "\n",
       "        ...,\n",
       "\n",
       "        [[-2.2726e+00,  5.2098e-01, -1.4018e+00,  ..., -3.4759e-02,\n",
       "           1.4896e+00, -3.4237e-01],\n",
       "         [-7.4102e-01, -1.6631e+00, -1.5991e+00,  ..., -2.0144e+00,\n",
       "          -5.9912e-01,  1.9507e+00],\n",
       "         [-8.4507e-01, -3.1852e-01, -1.3488e-01,  ...,  5.4960e-01,\n",
       "           4.5396e-01, -8.6174e-02],\n",
       "         ...,\n",
       "         [-6.1498e-01, -1.2807e+00,  9.2667e-01,  ..., -3.8338e-01,\n",
       "           1.3162e+00,  4.2244e-01],\n",
       "         [ 2.2649e+00,  2.1622e-01, -2.4797e+00,  ...,  1.2213e+00,\n",
       "          -1.2935e+00,  5.0402e-01],\n",
       "         [ 1.3304e-01,  3.2714e-01,  1.6668e+00,  ..., -3.9014e-01,\n",
       "          -1.8878e-01,  2.5774e-01]],\n",
       "\n",
       "        [[-6.6084e-01, -4.5670e-01, -1.1211e+00,  ...,  6.3358e-01,\n",
       "          -1.9453e+00,  4.9294e-01],\n",
       "         [ 4.8094e-01, -1.5260e-01,  1.8998e-01,  ..., -8.9681e-01,\n",
       "           1.2067e+00,  1.0634e+00],\n",
       "         [ 7.8573e-01,  1.8086e+00, -1.0035e+00,  ...,  6.1865e-01,\n",
       "           5.8152e-01,  2.4011e+00],\n",
       "         ...,\n",
       "         [ 1.4904e+00, -3.0496e-01,  1.9768e-01,  ..., -8.4249e-02,\n",
       "          -1.3706e+00,  5.5228e-01],\n",
       "         [-2.9173e+00,  4.4745e-01,  5.0552e-01,  ...,  1.3354e-01,\n",
       "          -6.4709e-01, -2.9048e+00],\n",
       "         [-4.5323e-04,  2.5690e-01, -4.0562e-01,  ...,  6.0159e-02,\n",
       "          -2.2476e-02, -3.2101e-01]],\n",
       "\n",
       "        [[ 1.3957e+00, -3.4232e-01,  2.8654e-01,  ..., -4.4426e-01,\n",
       "           1.6800e+00,  8.4792e-01],\n",
       "         [-4.5326e-01,  2.9961e-01, -6.7848e-01,  ..., -2.9083e-01,\n",
       "          -9.3162e-02,  1.4029e+00],\n",
       "         [-1.6154e+00, -8.8611e-01, -3.1774e-01,  ...,  2.3291e-01,\n",
       "          -1.5135e+00, -4.3038e-01],\n",
       "         ...,\n",
       "         [ 1.9131e+00, -6.6990e-01,  1.6820e+00,  ..., -1.3187e+00,\n",
       "          -1.0615e+00,  7.6336e-01],\n",
       "         [-1.3309e-02, -6.3038e-01,  1.1017e-02,  ...,  3.7240e-01,\n",
       "          -1.0409e+00,  1.4075e+00],\n",
       "         [ 1.7726e+00, -4.6996e-01,  1.8645e+00,  ...,  6.8598e-01,\n",
       "          -1.2679e+00, -8.5874e-01]]], grad_fn=<NativeLayerNormBackward>)"
      ]
     },
     "metadata": {},
     "execution_count": 14
    }
   ],
   "source": [
    "block = ConformerBlock(\n",
    "    dim = 1000,\n",
    "    dim_head = 64,\n",
    "    heads = 8,\n",
    "    ff_mult = 4,\n",
    "    conv_expansion_factor = 2,\n",
    "    conv_kernel_size = 31,\n",
    "    attn_dropout = 0.,\n",
    "    ff_dropout = 0.,\n",
    "    conv_dropout = 0.\n",
    ")\n",
    "\n",
    "# x = torch.randn(1, 1024, 512)\n",
    "block(x) # (1, 1024, 512)"
   ]
  },
  {
   "cell_type": "code",
   "execution_count": 24,
   "metadata": {},
   "outputs": [
    {
     "output_type": "execute_result",
     "data": {
      "text/plain": [
       "tensor([[[-0.3272, -1.4688,  0.6977,  ..., -1.3553, -0.6360, -0.1129],\n",
       "         [ 0.7752,  0.6278, -0.9865,  ...,  1.3034, -0.6864, -0.1707],\n",
       "         [ 0.7214,  2.0796,  1.9614,  ..., -0.3620, -0.7741,  0.0137],\n",
       "         ...,\n",
       "         [ 0.1327,  0.9225,  0.5310,  ...,  0.1975, -0.6152,  0.8490],\n",
       "         [ 0.3753,  0.7627,  1.0196,  ...,  1.2932,  0.3024,  0.0706],\n",
       "         [ 0.4095,  0.5860,  0.3746,  ..., -0.6731, -0.2048,  0.6988]]],\n",
       "       grad_fn=<NativeLayerNormBackward>)"
      ]
     },
     "metadata": {},
     "execution_count": 24
    }
   ],
   "source": [
    "block(x)"
   ]
  },
  {
   "cell_type": "markdown",
   "metadata": {},
   "source": [
    "## Modeling"
   ]
  },
  {
   "cell_type": "code",
   "execution_count": null,
   "metadata": {},
   "outputs": [],
   "source": []
  },
  {
   "cell_type": "code",
   "execution_count": null,
   "metadata": {},
   "outputs": [],
   "source": []
  },
  {
   "cell_type": "code",
   "execution_count": null,
   "metadata": {},
   "outputs": [],
   "source": []
  },
  {
   "cell_type": "code",
   "execution_count": null,
   "metadata": {},
   "outputs": [],
   "source": []
  },
  {
   "cell_type": "code",
   "execution_count": null,
   "metadata": {},
   "outputs": [],
   "source": []
  },
  {
   "cell_type": "code",
   "execution_count": null,
   "metadata": {},
   "outputs": [],
   "source": []
  },
  {
   "cell_type": "code",
   "execution_count": null,
   "metadata": {},
   "outputs": [],
   "source": []
  }
 ],
 "metadata": {
  "kernelspec": {
   "display_name": "Python 3",
   "language": "python",
   "name": "python3"
  },
  "language_info": {
   "codemirror_mode": {
    "name": "ipython",
    "version": 3
   },
   "file_extension": ".py",
   "mimetype": "text/x-python",
   "name": "python",
   "nbconvert_exporter": "python",
   "pygments_lexer": "ipython3",
   "version": "3.8.5-final"
  }
 },
 "nbformat": 4,
 "nbformat_minor": 4
}