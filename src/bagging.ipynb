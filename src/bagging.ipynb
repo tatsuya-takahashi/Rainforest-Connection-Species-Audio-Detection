{
 "metadata": {
  "language_info": {
   "codemirror_mode": {
    "name": "ipython",
    "version": 3
   },
   "file_extension": ".py",
   "mimetype": "text/x-python",
   "name": "python",
   "nbconvert_exporter": "python",
   "pygments_lexer": "ipython3",
   "version": "3.8.5-final"
  },
  "orig_nbformat": 2,
  "kernelspec": {
   "name": "python3",
   "display_name": "Python 3",
   "language": "python"
  }
 },
 "nbformat": 4,
 "nbformat_minor": 2,
 "cells": [
  {
   "cell_type": "code",
   "execution_count": 2,
   "metadata": {},
   "outputs": [],
   "source": [
    "import numpy as np\n",
    "import pandas as pd\n",
    "from pathlib import Path\n"
   ]
  },
  {
   "cell_type": "code",
   "execution_count": 15,
   "metadata": {},
   "outputs": [
    {
     "output_type": "display_data",
     "data": {
      "text/plain": "  recording_id        s0        s1        s2        s3        s4        s5  \\\n0    000316da7  0.147241  0.125026  0.109696  0.357899  0.099043  0.213696   \n\n         s6        s7        s8  ...       s14       s15       s16       s17  \\\n0  0.113769  0.182404  0.110042  ...  0.179471  0.140863  0.100057  0.133385   \n\n        s18       s19       s20       s21       s22       s23  \n0  0.195689  0.118428  0.159259  0.128296  0.105157  0.130125  \n\n[1 rows x 25 columns]",
      "text/html": "<div>\n<style scoped>\n    .dataframe tbody tr th:only-of-type {\n        vertical-align: middle;\n    }\n\n    .dataframe tbody tr th {\n        vertical-align: top;\n    }\n\n    .dataframe thead th {\n        text-align: right;\n    }\n</style>\n<table border=\"1\" class=\"dataframe\">\n  <thead>\n    <tr style=\"text-align: right;\">\n      <th></th>\n      <th>recording_id</th>\n      <th>s0</th>\n      <th>s1</th>\n      <th>s2</th>\n      <th>s3</th>\n      <th>s4</th>\n      <th>s5</th>\n      <th>s6</th>\n      <th>s7</th>\n      <th>s8</th>\n      <th>...</th>\n      <th>s14</th>\n      <th>s15</th>\n      <th>s16</th>\n      <th>s17</th>\n      <th>s18</th>\n      <th>s19</th>\n      <th>s20</th>\n      <th>s21</th>\n      <th>s22</th>\n      <th>s23</th>\n    </tr>\n  </thead>\n  <tbody>\n    <tr>\n      <th>0</th>\n      <td>000316da7</td>\n      <td>0.147241</td>\n      <td>0.125026</td>\n      <td>0.109696</td>\n      <td>0.357899</td>\n      <td>0.099043</td>\n      <td>0.213696</td>\n      <td>0.113769</td>\n      <td>0.182404</td>\n      <td>0.110042</td>\n      <td>...</td>\n      <td>0.179471</td>\n      <td>0.140863</td>\n      <td>0.100057</td>\n      <td>0.133385</td>\n      <td>0.195689</td>\n      <td>0.118428</td>\n      <td>0.159259</td>\n      <td>0.128296</td>\n      <td>0.105157</td>\n      <td>0.130125</td>\n    </tr>\n  </tbody>\n</table>\n<p>1 rows × 25 columns</p>\n</div>"
     },
     "metadata": {}
    },
    {
     "output_type": "display_data",
     "data": {
      "text/plain": "3.8903257019000006"
     },
     "metadata": {}
    },
    {
     "output_type": "display_data",
     "data": {
      "text/plain": "  recording_id     s0      s1     s2    s3     s4      s5     s6     s7  \\\n0    000316da7  10.93  13.038  5.044  23.0  3.038  17.956  1.968  15.93   \n\n      s8  ...   s14    s15     s16    s17   s18   s19    s20    s21   s22  \\\n0  6.038  ...  20.0  18.93  14.012  3.994  21.0  1.07  9.026  16.93  9.93   \n\n      s23  \n0  15.064  \n\n[1 rows x 25 columns]",
      "text/html": "<div>\n<style scoped>\n    .dataframe tbody tr th:only-of-type {\n        vertical-align: middle;\n    }\n\n    .dataframe tbody tr th {\n        vertical-align: top;\n    }\n\n    .dataframe thead th {\n        text-align: right;\n    }\n</style>\n<table border=\"1\" class=\"dataframe\">\n  <thead>\n    <tr style=\"text-align: right;\">\n      <th></th>\n      <th>recording_id</th>\n      <th>s0</th>\n      <th>s1</th>\n      <th>s2</th>\n      <th>s3</th>\n      <th>s4</th>\n      <th>s5</th>\n      <th>s6</th>\n      <th>s7</th>\n      <th>s8</th>\n      <th>...</th>\n      <th>s14</th>\n      <th>s15</th>\n      <th>s16</th>\n      <th>s17</th>\n      <th>s18</th>\n      <th>s19</th>\n      <th>s20</th>\n      <th>s21</th>\n      <th>s22</th>\n      <th>s23</th>\n    </tr>\n  </thead>\n  <tbody>\n    <tr>\n      <th>0</th>\n      <td>000316da7</td>\n      <td>10.93</td>\n      <td>13.038</td>\n      <td>5.044</td>\n      <td>23.0</td>\n      <td>3.038</td>\n      <td>17.956</td>\n      <td>1.968</td>\n      <td>15.93</td>\n      <td>6.038</td>\n      <td>...</td>\n      <td>20.0</td>\n      <td>18.93</td>\n      <td>14.012</td>\n      <td>3.994</td>\n      <td>21.0</td>\n      <td>1.07</td>\n      <td>9.026</td>\n      <td>16.93</td>\n      <td>9.93</td>\n      <td>15.064</td>\n    </tr>\n  </tbody>\n</table>\n<p>1 rows × 25 columns</p>\n</div>"
     },
     "metadata": {}
    },
    {
     "output_type": "display_data",
     "data": {
      "text/plain": "276.0"
     },
     "metadata": {}
    },
    {
     "output_type": "display_data",
     "data": {
      "text/plain": "  recording_id        s0        s1       s2       s3        s4        s5  \\\n0    000316da7  0.229914  0.008453  0.00805  0.99295  0.000218  0.069703   \n\n         s6        s7        s8  ...       s14       s15       s16       s17  \\\n0  0.000343  0.012105  0.003435  ...  0.001236  0.004097  0.002211  0.001163   \n\n        s18       s19       s20       s21       s22       s23  \n0  0.021619  0.031797  0.000908  0.010523  0.004563  0.001275  \n\n[1 rows x 25 columns]",
      "text/html": "<div>\n<style scoped>\n    .dataframe tbody tr th:only-of-type {\n        vertical-align: middle;\n    }\n\n    .dataframe tbody tr th {\n        vertical-align: top;\n    }\n\n    .dataframe thead th {\n        text-align: right;\n    }\n</style>\n<table border=\"1\" class=\"dataframe\">\n  <thead>\n    <tr style=\"text-align: right;\">\n      <th></th>\n      <th>recording_id</th>\n      <th>s0</th>\n      <th>s1</th>\n      <th>s2</th>\n      <th>s3</th>\n      <th>s4</th>\n      <th>s5</th>\n      <th>s6</th>\n      <th>s7</th>\n      <th>s8</th>\n      <th>...</th>\n      <th>s14</th>\n      <th>s15</th>\n      <th>s16</th>\n      <th>s17</th>\n      <th>s18</th>\n      <th>s19</th>\n      <th>s20</th>\n      <th>s21</th>\n      <th>s22</th>\n      <th>s23</th>\n    </tr>\n  </thead>\n  <tbody>\n    <tr>\n      <th>0</th>\n      <td>000316da7</td>\n      <td>0.229914</td>\n      <td>0.008453</td>\n      <td>0.00805</td>\n      <td>0.99295</td>\n      <td>0.000218</td>\n      <td>0.069703</td>\n      <td>0.000343</td>\n      <td>0.012105</td>\n      <td>0.003435</td>\n      <td>...</td>\n      <td>0.001236</td>\n      <td>0.004097</td>\n      <td>0.002211</td>\n      <td>0.001163</td>\n      <td>0.021619</td>\n      <td>0.031797</td>\n      <td>0.000908</td>\n      <td>0.010523</td>\n      <td>0.004563</td>\n      <td>0.001275</td>\n    </tr>\n  </tbody>\n</table>\n<p>1 rows × 25 columns</p>\n</div>"
     },
     "metadata": {}
    },
    {
     "output_type": "display_data",
     "data": {
      "text/plain": "1.5806320081900005"
     },
     "metadata": {}
    },
    {
     "output_type": "display_data",
     "data": {
      "text/plain": "  recording_id        s0        s1        s2        s3        s4        s5  \\\n0    000316da7  3.202613  3.895946  1.706396  7.599547  1.076078  5.293725   \n\n         s6        s7        s8  ...      s14       s15       s16       s17  \\\n0  0.635732  4.540981  1.910178  ...  5.81584  5.394237  4.205831  1.205558   \n\n        s18       s19       s20       s21       s22       s23  \n0  6.158976  0.611817  2.685329  4.750577  2.779728  4.499254  \n\n[1 rows x 25 columns]",
      "text/html": "<div>\n<style scoped>\n    .dataframe tbody tr th:only-of-type {\n        vertical-align: middle;\n    }\n\n    .dataframe tbody tr th {\n        vertical-align: top;\n    }\n\n    .dataframe thead th {\n        text-align: right;\n    }\n</style>\n<table border=\"1\" class=\"dataframe\">\n  <thead>\n    <tr style=\"text-align: right;\">\n      <th></th>\n      <th>recording_id</th>\n      <th>s0</th>\n      <th>s1</th>\n      <th>s2</th>\n      <th>s3</th>\n      <th>s4</th>\n      <th>s5</th>\n      <th>s6</th>\n      <th>s7</th>\n      <th>s8</th>\n      <th>...</th>\n      <th>s14</th>\n      <th>s15</th>\n      <th>s16</th>\n      <th>s17</th>\n      <th>s18</th>\n      <th>s19</th>\n      <th>s20</th>\n      <th>s21</th>\n      <th>s22</th>\n      <th>s23</th>\n    </tr>\n  </thead>\n  <tbody>\n    <tr>\n      <th>0</th>\n      <td>000316da7</td>\n      <td>3.202613</td>\n      <td>3.895946</td>\n      <td>1.706396</td>\n      <td>7.599547</td>\n      <td>1.076078</td>\n      <td>5.293725</td>\n      <td>0.635732</td>\n      <td>4.540981</td>\n      <td>1.910178</td>\n      <td>...</td>\n      <td>5.81584</td>\n      <td>5.394237</td>\n      <td>4.205831</td>\n      <td>1.205558</td>\n      <td>6.158976</td>\n      <td>0.611817</td>\n      <td>2.685329</td>\n      <td>4.750577</td>\n      <td>2.779728</td>\n      <td>4.499254</td>\n    </tr>\n  </tbody>\n</table>\n<p>1 rows × 25 columns</p>\n</div>"
     },
     "metadata": {}
    },
    {
     "output_type": "display_data",
     "data": {
      "text/plain": "83.39560815408683"
     },
     "metadata": {}
    }
   ],
   "source": [
    "dfs = []\n",
    "\n",
    "dfs.append(pd.read_csv(Path(\"../input/submission_878.csv\")).sort_values('recording_id'))\n",
    "dfs.append(pd.read_csv(Path(\"../input/submission_879.csv\")).sort_values('recording_id'))\n",
    "dfs.append(pd.read_csv(Path(\"../input/submission_879_1.csv\")).sort_values('recording_id'))\n",
    "dfs.append(pd.read_csv(Path(\"../input/submission_880.csv\")).sort_values('recording_id'))\n",
    "\n",
    "for df in dfs:\n",
    "    display(df.head(1))\n",
    "    display(df.values[0][1:].sum())\n"
   ]
  },
  {
   "cell_type": "code",
   "execution_count": 22,
   "metadata": {},
   "outputs": [],
   "source": [
    "from sklearn import preprocessing\n",
    "mm = preprocessing.MinMaxScaler()"
   ]
  },
  {
   "cell_type": "code",
   "execution_count": 23,
   "metadata": {},
   "outputs": [],
   "source": [
    "preds = dfs[0].values[:,1:] + mm.fit_transform(dfs[1].values[:,1:]) + dfs[2].values[:,1:] + mm.fit_transform(dfs[3].values[:,1:])"
   ]
  },
  {
   "cell_type": "code",
   "execution_count": 26,
   "metadata": {},
   "outputs": [
    {
     "output_type": "execute_result",
     "data": {
      "text/plain": [
       "(1992, 24)"
      ]
     },
     "metadata": {},
     "execution_count": 26
    }
   ],
   "source": [
    "preds.shape"
   ]
  },
  {
   "cell_type": "code",
   "execution_count": 34,
   "metadata": {},
   "outputs": [
    {
     "output_type": "execute_result",
     "data": {
      "text/plain": [
       "            s0        s1         s2        s3        s4        s5         s6  \\\n",
       "0      1.25024   1.20212   0.547514   3.31569  0.370248   1.73428   0.281227   \n",
       "1      1.14055   1.39657   0.859062   2.82661  0.792054  0.391437   0.198467   \n",
       "2      2.01623   1.38884   0.253149   2.57852  0.128985   1.25306   0.526784   \n",
       "3       2.7405   1.13041   0.588918  0.795851   1.61575   1.46837     0.2507   \n",
       "4     0.664331  0.967402    1.28301   2.89539  0.748805  0.937677   0.662548   \n",
       "...        ...       ...        ...       ...       ...       ...        ...   \n",
       "1987   1.42734  0.206831    0.33881   1.64718   1.26554   3.31321   0.587107   \n",
       "1988  0.400207  0.636704  0.0961786   1.84287  0.711824   1.32244   0.547864   \n",
       "1989  0.916395   1.18949   0.257072   3.13473  0.149814    1.2824   0.570064   \n",
       "1990   1.49053   2.01687    1.30712   2.35521  0.510031   1.01444  0.0810986   \n",
       "1991  0.416979   1.17847     2.6287    3.0364  0.062178   1.02115   0.336896   \n",
       "\n",
       "            s7        s8        s9  ...       s15       s16        s17  \\\n",
       "0      1.40417  0.617293   1.26267  ...   1.63019   1.22472   0.458767   \n",
       "1      2.40332  0.564645  0.748159  ...   2.06773   2.85832    1.40903   \n",
       "2      2.30366  0.300019  0.482249  ...  0.883917   1.63285    1.72828   \n",
       "3     0.995329   2.23053   1.42485  ...  0.989091  0.342748  0.0406862   \n",
       "4      1.56938    1.0577  0.872542  ...   2.07053   1.69107    1.39248   \n",
       "...        ...       ...       ...  ...       ...       ...        ...   \n",
       "1987   1.77041   1.04837  0.469057  ...   2.32882  0.877561     0.8674   \n",
       "1988   3.48636  0.580283   1.70799  ...   2.04273  0.985415    1.87858   \n",
       "1989   1.91121  0.599217   1.48947  ...   2.84208   1.65839    2.11857   \n",
       "1990   2.29888  0.895345   1.69891  ...  0.580216   2.03592   0.751955   \n",
       "1991   1.83965   0.72833  0.887844  ...   1.29854   1.73005   0.236424   \n",
       "\n",
       "           s18        s19       s20       s21       s22       s23 recording_id  \n",
       "0      1.93656   0.274955  0.895798   1.52901  0.897662   1.33526    000316da7  \n",
       "1      1.63864  0.0471265  0.223194  0.994127  0.655653  0.503169    003bc2cb2  \n",
       "2      0.70458    1.23571   1.39447   0.68361   1.53458    1.5993    0061c037e  \n",
       "3      2.33608   0.425769  0.590741   1.86858  0.270243   0.82101    010eb14d3  \n",
       "4      2.17228   0.181155  0.430458   1.59653  0.334357  0.300918    011318064  \n",
       "...        ...        ...       ...       ...       ...       ...          ...  \n",
       "1987  0.156022   0.716174   1.73051   1.12954  0.785424   3.05563    ff68f3ac3  \n",
       "1988  0.913694   0.872929   1.57236  0.311828   1.21269   1.50189    ff973e852  \n",
       "1989  0.708479   0.421687   1.59015  0.823777   1.10739   1.00189    ffa5cf6d6  \n",
       "1990   1.39847   0.278684  0.621048   1.46528  0.465974   1.48424    ffa88cbb8  \n",
       "1991  0.523878    1.26118  0.986523   1.31846    2.1057   1.43794    ffda5d7b3  \n",
       "\n",
       "[1992 rows x 25 columns]"
      ],
      "text/html": "<div>\n<style scoped>\n    .dataframe tbody tr th:only-of-type {\n        vertical-align: middle;\n    }\n\n    .dataframe tbody tr th {\n        vertical-align: top;\n    }\n\n    .dataframe thead th {\n        text-align: right;\n    }\n</style>\n<table border=\"1\" class=\"dataframe\">\n  <thead>\n    <tr style=\"text-align: right;\">\n      <th></th>\n      <th>s0</th>\n      <th>s1</th>\n      <th>s2</th>\n      <th>s3</th>\n      <th>s4</th>\n      <th>s5</th>\n      <th>s6</th>\n      <th>s7</th>\n      <th>s8</th>\n      <th>s9</th>\n      <th>...</th>\n      <th>s15</th>\n      <th>s16</th>\n      <th>s17</th>\n      <th>s18</th>\n      <th>s19</th>\n      <th>s20</th>\n      <th>s21</th>\n      <th>s22</th>\n      <th>s23</th>\n      <th>recording_id</th>\n    </tr>\n  </thead>\n  <tbody>\n    <tr>\n      <th>0</th>\n      <td>1.25024</td>\n      <td>1.20212</td>\n      <td>0.547514</td>\n      <td>3.31569</td>\n      <td>0.370248</td>\n      <td>1.73428</td>\n      <td>0.281227</td>\n      <td>1.40417</td>\n      <td>0.617293</td>\n      <td>1.26267</td>\n      <td>...</td>\n      <td>1.63019</td>\n      <td>1.22472</td>\n      <td>0.458767</td>\n      <td>1.93656</td>\n      <td>0.274955</td>\n      <td>0.895798</td>\n      <td>1.52901</td>\n      <td>0.897662</td>\n      <td>1.33526</td>\n      <td>000316da7</td>\n    </tr>\n    <tr>\n      <th>1</th>\n      <td>1.14055</td>\n      <td>1.39657</td>\n      <td>0.859062</td>\n      <td>2.82661</td>\n      <td>0.792054</td>\n      <td>0.391437</td>\n      <td>0.198467</td>\n      <td>2.40332</td>\n      <td>0.564645</td>\n      <td>0.748159</td>\n      <td>...</td>\n      <td>2.06773</td>\n      <td>2.85832</td>\n      <td>1.40903</td>\n      <td>1.63864</td>\n      <td>0.0471265</td>\n      <td>0.223194</td>\n      <td>0.994127</td>\n      <td>0.655653</td>\n      <td>0.503169</td>\n      <td>003bc2cb2</td>\n    </tr>\n    <tr>\n      <th>2</th>\n      <td>2.01623</td>\n      <td>1.38884</td>\n      <td>0.253149</td>\n      <td>2.57852</td>\n      <td>0.128985</td>\n      <td>1.25306</td>\n      <td>0.526784</td>\n      <td>2.30366</td>\n      <td>0.300019</td>\n      <td>0.482249</td>\n      <td>...</td>\n      <td>0.883917</td>\n      <td>1.63285</td>\n      <td>1.72828</td>\n      <td>0.70458</td>\n      <td>1.23571</td>\n      <td>1.39447</td>\n      <td>0.68361</td>\n      <td>1.53458</td>\n      <td>1.5993</td>\n      <td>0061c037e</td>\n    </tr>\n    <tr>\n      <th>3</th>\n      <td>2.7405</td>\n      <td>1.13041</td>\n      <td>0.588918</td>\n      <td>0.795851</td>\n      <td>1.61575</td>\n      <td>1.46837</td>\n      <td>0.2507</td>\n      <td>0.995329</td>\n      <td>2.23053</td>\n      <td>1.42485</td>\n      <td>...</td>\n      <td>0.989091</td>\n      <td>0.342748</td>\n      <td>0.0406862</td>\n      <td>2.33608</td>\n      <td>0.425769</td>\n      <td>0.590741</td>\n      <td>1.86858</td>\n      <td>0.270243</td>\n      <td>0.82101</td>\n      <td>010eb14d3</td>\n    </tr>\n    <tr>\n      <th>4</th>\n      <td>0.664331</td>\n      <td>0.967402</td>\n      <td>1.28301</td>\n      <td>2.89539</td>\n      <td>0.748805</td>\n      <td>0.937677</td>\n      <td>0.662548</td>\n      <td>1.56938</td>\n      <td>1.0577</td>\n      <td>0.872542</td>\n      <td>...</td>\n      <td>2.07053</td>\n      <td>1.69107</td>\n      <td>1.39248</td>\n      <td>2.17228</td>\n      <td>0.181155</td>\n      <td>0.430458</td>\n      <td>1.59653</td>\n      <td>0.334357</td>\n      <td>0.300918</td>\n      <td>011318064</td>\n    </tr>\n    <tr>\n      <th>...</th>\n      <td>...</td>\n      <td>...</td>\n      <td>...</td>\n      <td>...</td>\n      <td>...</td>\n      <td>...</td>\n      <td>...</td>\n      <td>...</td>\n      <td>...</td>\n      <td>...</td>\n      <td>...</td>\n      <td>...</td>\n      <td>...</td>\n      <td>...</td>\n      <td>...</td>\n      <td>...</td>\n      <td>...</td>\n      <td>...</td>\n      <td>...</td>\n      <td>...</td>\n      <td>...</td>\n    </tr>\n    <tr>\n      <th>1987</th>\n      <td>1.42734</td>\n      <td>0.206831</td>\n      <td>0.33881</td>\n      <td>1.64718</td>\n      <td>1.26554</td>\n      <td>3.31321</td>\n      <td>0.587107</td>\n      <td>1.77041</td>\n      <td>1.04837</td>\n      <td>0.469057</td>\n      <td>...</td>\n      <td>2.32882</td>\n      <td>0.877561</td>\n      <td>0.8674</td>\n      <td>0.156022</td>\n      <td>0.716174</td>\n      <td>1.73051</td>\n      <td>1.12954</td>\n      <td>0.785424</td>\n      <td>3.05563</td>\n      <td>ff68f3ac3</td>\n    </tr>\n    <tr>\n      <th>1988</th>\n      <td>0.400207</td>\n      <td>0.636704</td>\n      <td>0.0961786</td>\n      <td>1.84287</td>\n      <td>0.711824</td>\n      <td>1.32244</td>\n      <td>0.547864</td>\n      <td>3.48636</td>\n      <td>0.580283</td>\n      <td>1.70799</td>\n      <td>...</td>\n      <td>2.04273</td>\n      <td>0.985415</td>\n      <td>1.87858</td>\n      <td>0.913694</td>\n      <td>0.872929</td>\n      <td>1.57236</td>\n      <td>0.311828</td>\n      <td>1.21269</td>\n      <td>1.50189</td>\n      <td>ff973e852</td>\n    </tr>\n    <tr>\n      <th>1989</th>\n      <td>0.916395</td>\n      <td>1.18949</td>\n      <td>0.257072</td>\n      <td>3.13473</td>\n      <td>0.149814</td>\n      <td>1.2824</td>\n      <td>0.570064</td>\n      <td>1.91121</td>\n      <td>0.599217</td>\n      <td>1.48947</td>\n      <td>...</td>\n      <td>2.84208</td>\n      <td>1.65839</td>\n      <td>2.11857</td>\n      <td>0.708479</td>\n      <td>0.421687</td>\n      <td>1.59015</td>\n      <td>0.823777</td>\n      <td>1.10739</td>\n      <td>1.00189</td>\n      <td>ffa5cf6d6</td>\n    </tr>\n    <tr>\n      <th>1990</th>\n      <td>1.49053</td>\n      <td>2.01687</td>\n      <td>1.30712</td>\n      <td>2.35521</td>\n      <td>0.510031</td>\n      <td>1.01444</td>\n      <td>0.0810986</td>\n      <td>2.29888</td>\n      <td>0.895345</td>\n      <td>1.69891</td>\n      <td>...</td>\n      <td>0.580216</td>\n      <td>2.03592</td>\n      <td>0.751955</td>\n      <td>1.39847</td>\n      <td>0.278684</td>\n      <td>0.621048</td>\n      <td>1.46528</td>\n      <td>0.465974</td>\n      <td>1.48424</td>\n      <td>ffa88cbb8</td>\n    </tr>\n    <tr>\n      <th>1991</th>\n      <td>0.416979</td>\n      <td>1.17847</td>\n      <td>2.6287</td>\n      <td>3.0364</td>\n      <td>0.062178</td>\n      <td>1.02115</td>\n      <td>0.336896</td>\n      <td>1.83965</td>\n      <td>0.72833</td>\n      <td>0.887844</td>\n      <td>...</td>\n      <td>1.29854</td>\n      <td>1.73005</td>\n      <td>0.236424</td>\n      <td>0.523878</td>\n      <td>1.26118</td>\n      <td>0.986523</td>\n      <td>1.31846</td>\n      <td>2.1057</td>\n      <td>1.43794</td>\n      <td>ffda5d7b3</td>\n    </tr>\n  </tbody>\n</table>\n<p>1992 rows × 25 columns</p>\n</div>"
     },
     "metadata": {},
     "execution_count": 34
    }
   ],
   "source": [
    "df_sub = pd.DataFrame(preds, columns=dfs[0].columns[1:])\n",
    "df_sub[\"recording_id\"] = dfs[0][\"recording_id\"].values\n",
    "df_sub"
   ]
  },
  {
   "cell_type": "code",
   "execution_count": 36,
   "metadata": {},
   "outputs": [],
   "source": [
    "df_sub.to_csv('submission_bagging.csv', index=False)"
   ]
  },
  {
   "cell_type": "code",
   "execution_count": null,
   "metadata": {},
   "outputs": [],
   "source": []
  }
 ]
}